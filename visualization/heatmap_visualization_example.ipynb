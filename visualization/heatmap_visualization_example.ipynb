{
 "cells": [
  {
   "cell_type": "code",
   "execution_count": 6,
   "metadata": {},
   "outputs": [],
   "source": [
    "import altair as alt\n",
    "\n",
    "counties = alt.topo_feature('https://raw.githubusercontent.com/nychealth/coronavirus-data/master/Geography-resources/MODZCTA_2010_WGS1984.topo.json', 'collection')\n",
    "source = 'https://raw.githubusercontent.com/nychealth/coronavirus-data/2a2295acc84a0c6f42617bfd60236d7b13c264e9/latest/last7days-by-modzcta.csv'"
   ]
  },
  {
   "cell_type": "code",
   "execution_count": 7,
   "metadata": {},
   "outputs": [
    {
     "data": {
      "text/plain": [
       "UrlData({\n",
       "  format: TopoDataFormat({\n",
       "    feature: 'collection',\n",
       "    type: 'topojson'\n",
       "  }),\n",
       "  url: 'https://raw.githubusercontent.com/nychealth/coronavirus-data/master/Geography-resources/MODZCTA_2010_WGS1984.topo.json'\n",
       "})"
      ]
     },
     "execution_count": 7,
     "metadata": {},
     "output_type": "execute_result"
    }
   ],
   "source": [
    "counties"
   ]
  },
  {
   "cell_type": "code",
   "execution_count": 8,
   "metadata": {},
   "outputs": [
    {
     "data": {
      "text/plain": [
       "'https://raw.githubusercontent.com/nychealth/coronavirus-data/2a2295acc84a0c6f42617bfd60236d7b13c264e9/latest/last7days-by-modzcta.csv'"
      ]
     },
     "execution_count": 8,
     "metadata": {},
     "output_type": "execute_result"
    }
   ],
   "source": [
    "source"
   ]
  },
  {
   "cell_type": "code",
   "execution_count": 10,
   "metadata": {},
   "outputs": [
    {
     "data": {
      "text/html": [
       "\n",
       "<div id=\"altair-viz-dfeceaa50f89445d9b5c5070598d90a6\"></div>\n",
       "<script type=\"text/javascript\">\n",
       "  (function(spec, embedOpt){\n",
       "    let outputDiv = document.currentScript.previousElementSibling;\n",
       "    if (outputDiv.id !== \"altair-viz-dfeceaa50f89445d9b5c5070598d90a6\") {\n",
       "      outputDiv = document.getElementById(\"altair-viz-dfeceaa50f89445d9b5c5070598d90a6\");\n",
       "    }\n",
       "    const paths = {\n",
       "      \"vega\": \"https://cdn.jsdelivr.net/npm//vega@5?noext\",\n",
       "      \"vega-lib\": \"https://cdn.jsdelivr.net/npm//vega-lib?noext\",\n",
       "      \"vega-lite\": \"https://cdn.jsdelivr.net/npm//vega-lite@4.8.1?noext\",\n",
       "      \"vega-embed\": \"https://cdn.jsdelivr.net/npm//vega-embed@6?noext\",\n",
       "    };\n",
       "\n",
       "    function loadScript(lib) {\n",
       "      return new Promise(function(resolve, reject) {\n",
       "        var s = document.createElement('script');\n",
       "        s.src = paths[lib];\n",
       "        s.async = true;\n",
       "        s.onload = () => resolve(paths[lib]);\n",
       "        s.onerror = () => reject(`Error loading script: ${paths[lib]}`);\n",
       "        document.getElementsByTagName(\"head\")[0].appendChild(s);\n",
       "      });\n",
       "    }\n",
       "\n",
       "    function showError(err) {\n",
       "      outputDiv.innerHTML = `<div class=\"error\" style=\"color:red;\">${err}</div>`;\n",
       "      throw err;\n",
       "    }\n",
       "\n",
       "    function displayChart(vegaEmbed) {\n",
       "      vegaEmbed(outputDiv, spec, embedOpt)\n",
       "        .catch(err => showError(`Javascript Error: ${err.message}<br>This usually means there's a typo in your chart specification. See the javascript console for the full traceback.`));\n",
       "    }\n",
       "\n",
       "    if(typeof define === \"function\" && define.amd) {\n",
       "      requirejs.config({paths});\n",
       "      require([\"vega-embed\"], displayChart, err => showError(`Error loading script: ${err.message}`));\n",
       "    } else if (typeof vegaEmbed === \"function\") {\n",
       "      displayChart(vegaEmbed);\n",
       "    } else {\n",
       "      loadScript(\"vega\")\n",
       "        .then(() => loadScript(\"vega-lite\"))\n",
       "        .then(() => loadScript(\"vega-embed\"))\n",
       "        .catch(showError)\n",
       "        .then(() => displayChart(vegaEmbed));\n",
       "    }\n",
       "  })({\"config\": {\"view\": {\"continuousWidth\": 400, \"continuousHeight\": 300}}, \"data\": {\"url\": \"https://raw.githubusercontent.com/nychealth/coronavirus-data/master/Geography-resources/MODZCTA_2010_WGS1984.topo.json\", \"format\": {\"feature\": \"collection\", \"type\": \"topojson\"}}, \"mark\": \"geoshape\", \"encoding\": {\"color\": {\"type\": \"quantitative\", \"field\": \"percentpositivity_7day\"}, \"tooltip\": [{\"type\": \"nominal\", \"field\": \"modzcta\"}, {\"type\": \"nominal\", \"field\": \"modzcta_name\"}, {\"type\": \"quantitative\", \"field\": \"percentpositivity_7day\"}, {\"type\": \"quantitative\", \"field\": \"people_tested\"}, {\"type\": \"quantitative\", \"field\": \"people_positive\"}, {\"type\": \"quantitative\", \"field\": \"median_daily_test_rate\"}, {\"type\": \"nominal\", \"field\": \"adequately_tested\"}, {\"type\": \"nominal\", \"field\": \"daterange\"}]}, \"height\": 400, \"transform\": [{\"lookup\": \"properties.MODZCTA\", \"from\": {\"data\": {\"url\": \"https://raw.githubusercontent.com/nychealth/coronavirus-data/2a2295acc84a0c6f42617bfd60236d7b13c264e9/latest/last7days-by-modzcta.csv\"}, \"key\": \"modzcta\", \"fields\": [\"modzcta\", \"modzcta_name\", \"percentpositivity_7day\", \"people_tested\", \"people_positive\", \"median_daily_test_rate\", \"adequately_tested\", \"daterange\"]}}], \"width\": 400, \"$schema\": \"https://vega.github.io/schema/vega-lite/v4.8.1.json\"}, {\"mode\": \"vega-lite\"});\n",
       "</script>"
      ],
      "text/plain": [
       "alt.Chart(...)"
      ]
     },
     "execution_count": 10,
     "metadata": {},
     "output_type": "execute_result"
    }
   ],
   "source": [
    "alt.Chart(counties).mark_geoshape().encode(\n",
    "    color='percentpositivity_7day:Q',\n",
    "    tooltip=[\n",
    "              \"modzcta:N\",\n",
    "              \"modzcta_name:N\",\n",
    "              \"percentpositivity_7day:Q\",\n",
    "              \"people_tested:Q\",\n",
    "              \"people_positive:Q\",\n",
    "              \"median_daily_test_rate:Q\",\n",
    "              \"adequately_tested:N\",\n",
    "              \"daterange:N\"\n",
    "            ]\n",
    ").transform_lookup(\n",
    "    lookup='properties.MODZCTA',\n",
    "    from_=alt.LookupData(source, 'modzcta', [\n",
    "              \"modzcta\",\n",
    "              \"modzcta_name\",\n",
    "              \"percentpositivity_7day\",\n",
    "              \"people_tested\",\n",
    "              \"people_positive\",\n",
    "              \"median_daily_test_rate\",\n",
    "              \"adequately_tested\",\n",
    "              \"daterange\"\n",
    "            ])\n",
    ").properties(\n",
    "    width=400,\n",
    "    height=400\n",
    ")"
   ]
  },
  {
   "cell_type": "code",
   "execution_count": null,
   "metadata": {},
   "outputs": [],
   "source": []
  }
 ],
 "metadata": {
  "kernelspec": {
   "display_name": "Python 3",
   "language": "python",
   "name": "python3"
  },
  "language_info": {
   "codemirror_mode": {
    "name": "ipython",
    "version": 3
   },
   "file_extension": ".py",
   "mimetype": "text/x-python",
   "name": "python",
   "nbconvert_exporter": "python",
   "pygments_lexer": "ipython3",
   "version": "3.7.7"
  },
  "toc": {
   "base_numbering": 1,
   "nav_menu": {},
   "number_sections": true,
   "sideBar": true,
   "skip_h1_title": false,
   "title_cell": "Table of Contents",
   "title_sidebar": "Contents",
   "toc_cell": false,
   "toc_position": {},
   "toc_section_display": true,
   "toc_window_display": false
  }
 },
 "nbformat": 4,
 "nbformat_minor": 4
}

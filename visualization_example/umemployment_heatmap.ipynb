{
 "cells": [
  {
   "cell_type": "code",
   "execution_count": 1,
   "metadata": {},
   "outputs": [],
   "source": [
    "import altair as alt\n",
    "import pandas as pd"
   ]
  },
  {
   "cell_type": "code",
   "execution_count": 2,
   "metadata": {},
   "outputs": [],
   "source": [
    "boroughs = alt.topo_feature('https://raw.githubusercontent.com/ZhenZhouXu/Data-analysis-project/2a9724de7b5f70cb7db3ca816404d146e03a4ee0/geo_resources/Borough%20Boundaries.topo.json', 'Borough Boundaries')"
   ]
  },
  {
   "cell_type": "code",
   "execution_count": 3,
   "metadata": {},
   "outputs": [
    {
     "output_type": "execute_result",
     "data": {
      "text/html": "\n<div id=\"altair-viz-440e181f4d2d46a0b530b0647cc92f5f\"></div>\n<script type=\"text/javascript\">\n  (function(spec, embedOpt){\n    let outputDiv = document.currentScript.previousElementSibling;\n    if (outputDiv.id !== \"altair-viz-440e181f4d2d46a0b530b0647cc92f5f\") {\n      outputDiv = document.getElementById(\"altair-viz-440e181f4d2d46a0b530b0647cc92f5f\");\n    }\n    const paths = {\n      \"vega\": \"https://cdn.jsdelivr.net/npm//vega@5?noext\",\n      \"vega-lib\": \"https://cdn.jsdelivr.net/npm//vega-lib?noext\",\n      \"vega-lite\": \"https://cdn.jsdelivr.net/npm//vega-lite@4.8.1?noext\",\n      \"vega-embed\": \"https://cdn.jsdelivr.net/npm//vega-embed@6?noext\",\n    };\n\n    function loadScript(lib) {\n      return new Promise(function(resolve, reject) {\n        var s = document.createElement('script');\n        s.src = paths[lib];\n        s.async = true;\n        s.onload = () => resolve(paths[lib]);\n        s.onerror = () => reject(`Error loading script: ${paths[lib]}`);\n        document.getElementsByTagName(\"head\")[0].appendChild(s);\n      });\n    }\n\n    function showError(err) {\n      outputDiv.innerHTML = `<div class=\"error\" style=\"color:red;\">${err}</div>`;\n      throw err;\n    }\n\n    function displayChart(vegaEmbed) {\n      vegaEmbed(outputDiv, spec, embedOpt)\n        .catch(err => showError(`Javascript Error: ${err.message}<br>This usually means there's a typo in your chart specification. See the javascript console for the full traceback.`));\n    }\n\n    if(typeof define === \"function\" && define.amd) {\n      requirejs.config({paths});\n      require([\"vega-embed\"], displayChart, err => showError(`Error loading script: ${err.message}`));\n    } else if (typeof vegaEmbed === \"function\") {\n      displayChart(vegaEmbed);\n    } else {\n      loadScript(\"vega\")\n        .then(() => loadScript(\"vega-lite\"))\n        .then(() => loadScript(\"vega-embed\"))\n        .catch(showError)\n        .then(() => displayChart(vegaEmbed));\n    }\n  })({\"config\": {\"view\": {\"continuousWidth\": 400, \"continuousHeight\": 300}}, \"data\": {\"url\": \"https://raw.githubusercontent.com/ZhenZhouXu/Data-analysis-project/2a9724de7b5f70cb7db3ca816404d146e03a4ee0/geo_resources/Borough%20Boundaries.topo.json\", \"format\": {\"feature\": \"Borough Boundaries\", \"type\": \"topojson\"}}, \"mark\": \"geoshape\", \"$schema\": \"https://vega.github.io/schema/vega-lite/v4.8.1.json\"}, {\"mode\": \"vega-lite\"});\n</script>",
      "text/plain": [
       "alt.Chart(...)"
      ]
     },
     "metadata": {},
     "execution_count": 3
    }
   ],
   "source": [
    "alt.Chart(boroughs).mark_geoshape()"
   ]
  },
  {
   "cell_type": "code",
   "execution_count": 4,
   "metadata": {},
   "outputs": [],
   "source": [
    "unemployment_bronx = pd.read_csv(\"https://raw.githubusercontent.com/ZhenZhouXu/Data-analysis-project/main/data_sources/outputs/UERBronxCounty.out\"\n",
    "                                 , header=None, names=['Date', 'umemployment_rate'])\n",
    "unemployment_kings = pd.read_csv(\"https://raw.githubusercontent.com/ZhenZhouXu/Data-analysis-project/main/data_sources/outputs/UERKingsCounty.out\"\n",
    "                                 , header=None, names=['Date', 'umemployment_rate'])\n",
    "unemployment_newyork = pd.read_csv(\"https://raw.githubusercontent.com/ZhenZhouXu/Data-analysis-project/main/data_sources/outputs/UERNewYorkCounty.out\"\n",
    "                                 , header=None, names=['Date', 'umemployment_rate'])\n",
    "unemployment_queens = pd.read_csv(\"https://raw.githubusercontent.com/ZhenZhouXu/Data-analysis-project/main/data_sources/outputs/UERQueensCounty.out\"\n",
    "                                 , header=None, names=['Date', 'umemployment_rate'])\n",
    "unemployment_richmond = pd.read_csv(\"https://raw.githubusercontent.com/ZhenZhouXu/Data-analysis-project/main/data_sources/outputs/UERRichmondCounty.out\"\n",
    "                                 , header=None, names=['Date', 'umemployment_rate'])"
   ]
  },
  {
   "cell_type": "code",
   "execution_count": 5,
   "metadata": {},
   "outputs": [],
   "source": [
    "unemployment_bronx['Date'] = pd.to_datetime(unemployment_bronx['Date'], format='%Y-%m')\n",
    "unemployment_kings['Date'] = pd.to_datetime(unemployment_kings['Date'], format='%Y-%m')\n",
    "unemployment_newyork['Date'] = pd.to_datetime(unemployment_newyork['Date'], format='%Y-%m')\n",
    "unemployment_queens['Date'] = pd.to_datetime(unemployment_queens['Date'], format='%Y-%m')\n",
    "unemployment_richmond['Date'] = pd.to_datetime(unemployment_richmond['Date'], format='%Y-%m')"
   ]
  },
  {
   "cell_type": "code",
   "execution_count": 6,
   "metadata": {},
   "outputs": [],
   "source": [
    "unemployment_bronx['boro_name'] = 'Bronx'\n",
    "unemployment_kings['boro_name'] = 'Brooklyn'\n",
    "unemployment_newyork['boro_name'] = 'Manhattan'\n",
    "unemployment_queens['boro_name'] = 'Queens'\n",
    "unemployment_richmond['boro_name'] = 'Staten Island'"
   ]
  },
  {
   "cell_type": "code",
   "execution_count": 7,
   "metadata": {},
   "outputs": [],
   "source": [
    "unemployment_nyc = pd.concat([unemployment_bronx, unemployment_kings, unemployment_newyork, unemployment_queens, unemployment_richmond], ignore_index=True)"
   ]
  },
  {
   "cell_type": "code",
   "execution_count": 8,
   "metadata": {},
   "outputs": [],
   "source": [
    "unemployment_nyc = unemployment_nyc.set_index('Date')"
   ]
  },
  {
   "cell_type": "code",
   "execution_count": 9,
   "metadata": {},
   "outputs": [],
   "source": [
    "unemployment_nyc_2020_01 = unemployment_nyc.loc['2020-01-01']"
   ]
  },
  {
   "cell_type": "code",
   "execution_count": 10,
   "metadata": {},
   "outputs": [
    {
     "output_type": "execute_result",
     "data": {
      "text/plain": [
       "            umemployment_rate      boro_name\n",
       "Date                                        \n",
       "2020-01-01                4.9          Bronx\n",
       "2020-01-01                3.6       Brooklyn\n",
       "2020-01-01                3.2      Manhattan\n",
       "2020-01-01                3.1         Queens\n",
       "2020-01-01                3.4  Staten Island"
      ],
      "text/html": "<div>\n<style scoped>\n    .dataframe tbody tr th:only-of-type {\n        vertical-align: middle;\n    }\n\n    .dataframe tbody tr th {\n        vertical-align: top;\n    }\n\n    .dataframe thead th {\n        text-align: right;\n    }\n</style>\n<table border=\"1\" class=\"dataframe\">\n  <thead>\n    <tr style=\"text-align: right;\">\n      <th></th>\n      <th>umemployment_rate</th>\n      <th>boro_name</th>\n    </tr>\n    <tr>\n      <th>Date</th>\n      <th></th>\n      <th></th>\n    </tr>\n  </thead>\n  <tbody>\n    <tr>\n      <th>2020-01-01</th>\n      <td>4.9</td>\n      <td>Bronx</td>\n    </tr>\n    <tr>\n      <th>2020-01-01</th>\n      <td>3.6</td>\n      <td>Brooklyn</td>\n    </tr>\n    <tr>\n      <th>2020-01-01</th>\n      <td>3.2</td>\n      <td>Manhattan</td>\n    </tr>\n    <tr>\n      <th>2020-01-01</th>\n      <td>3.1</td>\n      <td>Queens</td>\n    </tr>\n    <tr>\n      <th>2020-01-01</th>\n      <td>3.4</td>\n      <td>Staten Island</td>\n    </tr>\n  </tbody>\n</table>\n</div>"
     },
     "metadata": {},
     "execution_count": 10
    }
   ],
   "source": [
    "unemployment_nyc_2020_01"
   ]
  },
  {
   "cell_type": "code",
   "execution_count": 11,
   "metadata": {},
   "outputs": [
    {
     "output_type": "execute_result",
     "data": {
      "text/html": "\n<div id=\"altair-viz-69a1fc26b75b454cbedf67337aad6be2\"></div>\n<script type=\"text/javascript\">\n  (function(spec, embedOpt){\n    let outputDiv = document.currentScript.previousElementSibling;\n    if (outputDiv.id !== \"altair-viz-69a1fc26b75b454cbedf67337aad6be2\") {\n      outputDiv = document.getElementById(\"altair-viz-69a1fc26b75b454cbedf67337aad6be2\");\n    }\n    const paths = {\n      \"vega\": \"https://cdn.jsdelivr.net/npm//vega@5?noext\",\n      \"vega-lib\": \"https://cdn.jsdelivr.net/npm//vega-lib?noext\",\n      \"vega-lite\": \"https://cdn.jsdelivr.net/npm//vega-lite@4.8.1?noext\",\n      \"vega-embed\": \"https://cdn.jsdelivr.net/npm//vega-embed@6?noext\",\n    };\n\n    function loadScript(lib) {\n      return new Promise(function(resolve, reject) {\n        var s = document.createElement('script');\n        s.src = paths[lib];\n        s.async = true;\n        s.onload = () => resolve(paths[lib]);\n        s.onerror = () => reject(`Error loading script: ${paths[lib]}`);\n        document.getElementsByTagName(\"head\")[0].appendChild(s);\n      });\n    }\n\n    function showError(err) {\n      outputDiv.innerHTML = `<div class=\"error\" style=\"color:red;\">${err}</div>`;\n      throw err;\n    }\n\n    function displayChart(vegaEmbed) {\n      vegaEmbed(outputDiv, spec, embedOpt)\n        .catch(err => showError(`Javascript Error: ${err.message}<br>This usually means there's a typo in your chart specification. See the javascript console for the full traceback.`));\n    }\n\n    if(typeof define === \"function\" && define.amd) {\n      requirejs.config({paths});\n      require([\"vega-embed\"], displayChart, err => showError(`Error loading script: ${err.message}`));\n    } else if (typeof vegaEmbed === \"function\") {\n      displayChart(vegaEmbed);\n    } else {\n      loadScript(\"vega\")\n        .then(() => loadScript(\"vega-lite\"))\n        .then(() => loadScript(\"vega-embed\"))\n        .catch(showError)\n        .then(() => displayChart(vegaEmbed));\n    }\n  })({\"config\": {\"view\": {\"continuousWidth\": 400, \"continuousHeight\": 300}}, \"data\": {\"url\": \"https://raw.githubusercontent.com/ZhenZhouXu/Data-analysis-project/2a9724de7b5f70cb7db3ca816404d146e03a4ee0/geo_resources/Borough%20Boundaries.topo.json\", \"format\": {\"feature\": \"Borough Boundaries\", \"type\": \"topojson\"}}, \"mark\": \"geoshape\", \"encoding\": {\"color\": {\"type\": \"quantitative\", \"field\": \"umemployment_rate\"}, \"tooltip\": [{\"type\": \"nominal\", \"field\": \"boro_name\"}, {\"type\": \"quantitative\", \"field\": \"umemployment_rate\"}]}, \"transform\": [{\"lookup\": \"properties.boro_name\", \"from\": {\"data\": {\"name\": \"data-d293222fa340672b65142f44c6bc1464\"}, \"key\": \"boro_name\", \"fields\": [\"boro_name\", \"umemployment_rate\"]}}], \"$schema\": \"https://vega.github.io/schema/vega-lite/v4.8.1.json\", \"datasets\": {\"data-d293222fa340672b65142f44c6bc1464\": [{\"umemployment_rate\": 4.9, \"boro_name\": \"Bronx\"}, {\"umemployment_rate\": 3.6, \"boro_name\": \"Brooklyn\"}, {\"umemployment_rate\": 3.2, \"boro_name\": \"Manhattan\"}, {\"umemployment_rate\": 3.1, \"boro_name\": \"Queens\"}, {\"umemployment_rate\": 3.4, \"boro_name\": \"Staten Island\"}]}}, {\"mode\": \"vega-lite\"});\n</script>",
      "text/plain": [
       "alt.Chart(...)"
      ]
     },
     "metadata": {},
     "execution_count": 11
    }
   ],
   "source": [
    "alt.Chart(boroughs).mark_geoshape().transform_lookup(\n",
    "    lookup='properties.boro_name',\n",
    "    from_=alt.LookupData(unemployment_nyc_2020_01, 'boro_name', [\n",
    "              \"boro_name\",\n",
    "              \"umemployment_rate\",\n",
    "            ])\n",
    ").encode(\n",
    "    color='umemployment_rate:Q',\n",
    "    tooltip=[\n",
    "              \"boro_name:N\",\n",
    "              \"umemployment_rate:Q\",\n",
    "            ]\n",
    ")"
   ]
  },
  {
   "cell_type": "code",
   "execution_count": 12,
   "metadata": {},
   "outputs": [],
   "source": [
    "chart = alt.hconcat()\n",
    "\n",
    "dates = ['2020-01-01', '2020-02-01', '2020-03-01', '2020-04-01', '2020-05-01', '2020-06-01', '2020-07-01', '2020-08-01', '2020-09-01', '2020-10-01']\n",
    "\n",
    "for date in dates:\n",
    "    unemployment_nyc_month = unemployment_nyc.loc[date]\n",
    "    chart |= alt.Chart(boroughs).mark_geoshape().transform_lookup(\n",
    "        lookup='properties.boro_name',\n",
    "        from_=alt.LookupData(unemployment_nyc_month, 'boro_name', [\n",
    "                \"boro_name\",\n",
    "                \"umemployment_rate\",\n",
    "                ])\n",
    "    ).encode(\n",
    "        color='umemployment_rate:Q',\n",
    "        tooltip=[\n",
    "                \"boro_name:N\",\n",
    "                \"umemployment_rate:Q\",\n",
    "                ]\n",
    "    ).properties(\n",
    "        width=100,\n",
    "        height=100,\n",
    "        title=date\n",
    "    )"
   ]
  },
  {
   "cell_type": "code",
   "execution_count": 13,
   "metadata": {},
   "outputs": [
    {
     "output_type": "execute_result",
     "data": {
      "text/html": "\n<div id=\"altair-viz-c686c16dafa2471fb4660af15caa8ada\"></div>\n<script type=\"text/javascript\">\n  (function(spec, embedOpt){\n    let outputDiv = document.currentScript.previousElementSibling;\n    if (outputDiv.id !== \"altair-viz-c686c16dafa2471fb4660af15caa8ada\") {\n      outputDiv = document.getElementById(\"altair-viz-c686c16dafa2471fb4660af15caa8ada\");\n    }\n    const paths = {\n      \"vega\": \"https://cdn.jsdelivr.net/npm//vega@5?noext\",\n      \"vega-lib\": \"https://cdn.jsdelivr.net/npm//vega-lib?noext\",\n      \"vega-lite\": \"https://cdn.jsdelivr.net/npm//vega-lite@4.8.1?noext\",\n      \"vega-embed\": \"https://cdn.jsdelivr.net/npm//vega-embed@6?noext\",\n    };\n\n    function loadScript(lib) {\n      return new Promise(function(resolve, reject) {\n        var s = document.createElement('script');\n        s.src = paths[lib];\n        s.async = true;\n        s.onload = () => resolve(paths[lib]);\n        s.onerror = () => reject(`Error loading script: ${paths[lib]}`);\n        document.getElementsByTagName(\"head\")[0].appendChild(s);\n      });\n    }\n\n    function showError(err) {\n      outputDiv.innerHTML = `<div class=\"error\" style=\"color:red;\">${err}</div>`;\n      throw err;\n    }\n\n    function displayChart(vegaEmbed) {\n      vegaEmbed(outputDiv, spec, embedOpt)\n        .catch(err => showError(`Javascript Error: ${err.message}<br>This usually means there's a typo in your chart specification. See the javascript console for the full traceback.`));\n    }\n\n    if(typeof define === \"function\" && define.amd) {\n      requirejs.config({paths});\n      require([\"vega-embed\"], displayChart, err => showError(`Error loading script: ${err.message}`));\n    } else if (typeof vegaEmbed === \"function\") {\n      displayChart(vegaEmbed);\n    } else {\n      loadScript(\"vega\")\n        .then(() => loadScript(\"vega-lite\"))\n        .then(() => loadScript(\"vega-embed\"))\n        .catch(showError)\n        .then(() => displayChart(vegaEmbed));\n    }\n  })({\"config\": {\"view\": {\"continuousWidth\": 400, \"continuousHeight\": 300}}, \"hconcat\": [{\"mark\": \"geoshape\", \"encoding\": {\"color\": {\"type\": \"quantitative\", \"field\": \"umemployment_rate\"}, \"tooltip\": [{\"type\": \"nominal\", \"field\": \"boro_name\"}, {\"type\": \"quantitative\", \"field\": \"umemployment_rate\"}]}, \"height\": 100, \"title\": \"2020-01-01\", \"transform\": [{\"lookup\": \"properties.boro_name\", \"from\": {\"data\": {\"name\": \"data-d293222fa340672b65142f44c6bc1464\"}, \"key\": \"boro_name\", \"fields\": [\"boro_name\", \"umemployment_rate\"]}}], \"width\": 100}, {\"mark\": \"geoshape\", \"encoding\": {\"color\": {\"type\": \"quantitative\", \"field\": \"umemployment_rate\"}, \"tooltip\": [{\"type\": \"nominal\", \"field\": \"boro_name\"}, {\"type\": \"quantitative\", \"field\": \"umemployment_rate\"}]}, \"height\": 100, \"title\": \"2020-02-01\", \"transform\": [{\"lookup\": \"properties.boro_name\", \"from\": {\"data\": {\"name\": \"data-5726b302cc26f99ba5262a9eeee24b14\"}, \"key\": \"boro_name\", \"fields\": [\"boro_name\", \"umemployment_rate\"]}}], \"width\": 100}, {\"mark\": \"geoshape\", \"encoding\": {\"color\": {\"type\": \"quantitative\", \"field\": \"umemployment_rate\"}, \"tooltip\": [{\"type\": \"nominal\", \"field\": \"boro_name\"}, {\"type\": \"quantitative\", \"field\": \"umemployment_rate\"}]}, \"height\": 100, \"title\": \"2020-03-01\", \"transform\": [{\"lookup\": \"properties.boro_name\", \"from\": {\"data\": {\"name\": \"data-242f5875fba97c1fecf7819b664bb754\"}, \"key\": \"boro_name\", \"fields\": [\"boro_name\", \"umemployment_rate\"]}}], \"width\": 100}, {\"mark\": \"geoshape\", \"encoding\": {\"color\": {\"type\": \"quantitative\", \"field\": \"umemployment_rate\"}, \"tooltip\": [{\"type\": \"nominal\", \"field\": \"boro_name\"}, {\"type\": \"quantitative\", \"field\": \"umemployment_rate\"}]}, \"height\": 100, \"title\": \"2020-04-01\", \"transform\": [{\"lookup\": \"properties.boro_name\", \"from\": {\"data\": {\"name\": \"data-d68f5b6d95474c8d3ab72c7d3084f89f\"}, \"key\": \"boro_name\", \"fields\": [\"boro_name\", \"umemployment_rate\"]}}], \"width\": 100}, {\"mark\": \"geoshape\", \"encoding\": {\"color\": {\"type\": \"quantitative\", \"field\": \"umemployment_rate\"}, \"tooltip\": [{\"type\": \"nominal\", \"field\": \"boro_name\"}, {\"type\": \"quantitative\", \"field\": \"umemployment_rate\"}]}, \"height\": 100, \"title\": \"2020-05-01\", \"transform\": [{\"lookup\": \"properties.boro_name\", \"from\": {\"data\": {\"name\": \"data-fb7cc604bd0d91fad97fc8a264ccc42f\"}, \"key\": \"boro_name\", \"fields\": [\"boro_name\", \"umemployment_rate\"]}}], \"width\": 100}, {\"mark\": \"geoshape\", \"encoding\": {\"color\": {\"type\": \"quantitative\", \"field\": \"umemployment_rate\"}, \"tooltip\": [{\"type\": \"nominal\", \"field\": \"boro_name\"}, {\"type\": \"quantitative\", \"field\": \"umemployment_rate\"}]}, \"height\": 100, \"title\": \"2020-06-01\", \"transform\": [{\"lookup\": \"properties.boro_name\", \"from\": {\"data\": {\"name\": \"data-d9857e91665947eb7fe168c3e476c9fd\"}, \"key\": \"boro_name\", \"fields\": [\"boro_name\", \"umemployment_rate\"]}}], \"width\": 100}, {\"mark\": \"geoshape\", \"encoding\": {\"color\": {\"type\": \"quantitative\", \"field\": \"umemployment_rate\"}, \"tooltip\": [{\"type\": \"nominal\", \"field\": \"boro_name\"}, {\"type\": \"quantitative\", \"field\": \"umemployment_rate\"}]}, \"height\": 100, \"title\": \"2020-07-01\", \"transform\": [{\"lookup\": \"properties.boro_name\", \"from\": {\"data\": {\"name\": \"data-9e92eec53f029c2297cf0e58817b1681\"}, \"key\": \"boro_name\", \"fields\": [\"boro_name\", \"umemployment_rate\"]}}], \"width\": 100}, {\"mark\": \"geoshape\", \"encoding\": {\"color\": {\"type\": \"quantitative\", \"field\": \"umemployment_rate\"}, \"tooltip\": [{\"type\": \"nominal\", \"field\": \"boro_name\"}, {\"type\": \"quantitative\", \"field\": \"umemployment_rate\"}]}, \"height\": 100, \"title\": \"2020-08-01\", \"transform\": [{\"lookup\": \"properties.boro_name\", \"from\": {\"data\": {\"name\": \"data-74b593587f57558bafd2175c10b8a1ae\"}, \"key\": \"boro_name\", \"fields\": [\"boro_name\", \"umemployment_rate\"]}}], \"width\": 100}, {\"mark\": \"geoshape\", \"encoding\": {\"color\": {\"type\": \"quantitative\", \"field\": \"umemployment_rate\"}, \"tooltip\": [{\"type\": \"nominal\", \"field\": \"boro_name\"}, {\"type\": \"quantitative\", \"field\": \"umemployment_rate\"}]}, \"height\": 100, \"title\": \"2020-09-01\", \"transform\": [{\"lookup\": \"properties.boro_name\", \"from\": {\"data\": {\"name\": \"data-7685d8b18fdfbac07be6c9e7eb38ef60\"}, \"key\": \"boro_name\", \"fields\": [\"boro_name\", \"umemployment_rate\"]}}], \"width\": 100}, {\"mark\": \"geoshape\", \"encoding\": {\"color\": {\"type\": \"quantitative\", \"field\": \"umemployment_rate\"}, \"tooltip\": [{\"type\": \"nominal\", \"field\": \"boro_name\"}, {\"type\": \"quantitative\", \"field\": \"umemployment_rate\"}]}, \"height\": 100, \"title\": \"2020-10-01\", \"transform\": [{\"lookup\": \"properties.boro_name\", \"from\": {\"data\": {\"name\": \"data-f642b4eead969b22e6194c90a107b4b8\"}, \"key\": \"boro_name\", \"fields\": [\"boro_name\", \"umemployment_rate\"]}}], \"width\": 100}], \"data\": {\"url\": \"https://raw.githubusercontent.com/ZhenZhouXu/Data-analysis-project/2a9724de7b5f70cb7db3ca816404d146e03a4ee0/geo_resources/Borough%20Boundaries.topo.json\", \"format\": {\"feature\": \"Borough Boundaries\", \"type\": \"topojson\"}}, \"$schema\": \"https://vega.github.io/schema/vega-lite/v4.8.1.json\", \"datasets\": {\"data-d293222fa340672b65142f44c6bc1464\": [{\"umemployment_rate\": 4.9, \"boro_name\": \"Bronx\"}, {\"umemployment_rate\": 3.6, \"boro_name\": \"Brooklyn\"}, {\"umemployment_rate\": 3.2, \"boro_name\": \"Manhattan\"}, {\"umemployment_rate\": 3.1, \"boro_name\": \"Queens\"}, {\"umemployment_rate\": 3.4, \"boro_name\": \"Staten Island\"}], \"data-5726b302cc26f99ba5262a9eeee24b14\": [{\"umemployment_rate\": 4.6, \"boro_name\": \"Bronx\"}, {\"umemployment_rate\": 3.5, \"boro_name\": \"Brooklyn\"}, {\"umemployment_rate\": 3.0, \"boro_name\": \"Manhattan\"}, {\"umemployment_rate\": 3.0, \"boro_name\": \"Queens\"}, {\"umemployment_rate\": 3.3, \"boro_name\": \"Staten Island\"}], \"data-242f5875fba97c1fecf7819b664bb754\": [{\"umemployment_rate\": 5.5, \"boro_name\": \"Bronx\"}, {\"umemployment_rate\": 4.2, \"boro_name\": \"Brooklyn\"}, {\"umemployment_rate\": 3.6, \"boro_name\": \"Manhattan\"}, {\"umemployment_rate\": 3.5, \"boro_name\": \"Queens\"}, {\"umemployment_rate\": 3.8, \"boro_name\": \"Staten Island\"}], \"data-d68f5b6d95474c8d3ab72c7d3084f89f\": [{\"umemployment_rate\": 16.8, \"boro_name\": \"Bronx\"}, {\"umemployment_rate\": 14.7, \"boro_name\": \"Brooklyn\"}, {\"umemployment_rate\": 11.0, \"boro_name\": \"Manhattan\"}, {\"umemployment_rate\": 16.4, \"boro_name\": \"Queens\"}, {\"umemployment_rate\": 14.0, \"boro_name\": \"Staten Island\"}], \"data-fb7cc604bd0d91fad97fc8a264ccc42f\": [{\"umemployment_rate\": 21.6, \"boro_name\": \"Bronx\"}, {\"umemployment_rate\": 18.2, \"boro_name\": \"Brooklyn\"}, {\"umemployment_rate\": 13.7, \"boro_name\": \"Manhattan\"}, {\"umemployment_rate\": 19.8, \"boro_name\": \"Queens\"}, {\"umemployment_rate\": 16.5, \"boro_name\": \"Staten Island\"}], \"data-d9857e91665947eb7fe168c3e476c9fd\": [{\"umemployment_rate\": 24.7, \"boro_name\": \"Bronx\"}, {\"umemployment_rate\": 20.5, \"boro_name\": \"Brooklyn\"}, {\"umemployment_rate\": 16.0, \"boro_name\": \"Manhattan\"}, {\"umemployment_rate\": 21.6, \"boro_name\": \"Queens\"}, {\"umemployment_rate\": 18.1, \"boro_name\": \"Staten Island\"}], \"data-9e92eec53f029c2297cf0e58817b1681\": [{\"umemployment_rate\": 25.0, \"boro_name\": \"Bronx\"}, {\"umemployment_rate\": 20.5, \"boro_name\": \"Brooklyn\"}, {\"umemployment_rate\": 16.0, \"boro_name\": \"Manhattan\"}, {\"umemployment_rate\": 20.6, \"boro_name\": \"Queens\"}, {\"umemployment_rate\": 17.3, \"boro_name\": \"Staten Island\"}], \"data-74b593587f57558bafd2175c10b8a1ae\": [{\"umemployment_rate\": 21.2, \"boro_name\": \"Bronx\"}, {\"umemployment_rate\": 16.5, \"boro_name\": \"Brooklyn\"}, {\"umemployment_rate\": 12.9, \"boro_name\": \"Manhattan\"}, {\"umemployment_rate\": 16.3, \"boro_name\": \"Queens\"}, {\"umemployment_rate\": 13.8, \"boro_name\": \"Staten Island\"}], \"data-7685d8b18fdfbac07be6c9e7eb38ef60\": [{\"umemployment_rate\": 18.6, \"boro_name\": \"Bronx\"}, {\"umemployment_rate\": 14.0, \"boro_name\": \"Brooklyn\"}, {\"umemployment_rate\": 10.8, \"boro_name\": \"Manhattan\"}, {\"umemployment_rate\": 13.7, \"boro_name\": \"Queens\"}, {\"umemployment_rate\": 11.4, \"boro_name\": \"Staten Island\"}], \"data-f642b4eead969b22e6194c90a107b4b8\": [{\"umemployment_rate\": 17.5, \"boro_name\": \"Bronx\"}, {\"umemployment_rate\": 13.3, \"boro_name\": \"Brooklyn\"}, {\"umemployment_rate\": 10.3, \"boro_name\": \"Manhattan\"}, {\"umemployment_rate\": 13.1, \"boro_name\": \"Queens\"}, {\"umemployment_rate\": 10.8, \"boro_name\": \"Staten Island\"}]}}, {\"mode\": \"vega-lite\"});\n</script>",
      "text/plain": [
       "alt.HConcatChart(...)"
      ]
     },
     "metadata": {},
     "execution_count": 13
    }
   ],
   "source": [
    "chart"
   ]
  },
  {
   "cell_type": "code",
   "execution_count": null,
   "metadata": {},
   "outputs": [],
   "source": []
  }
 ],
 "metadata": {
  "kernelspec": {
   "display_name": "Python 3",
   "language": "python",
   "name": "python3"
  },
  "language_info": {
   "codemirror_mode": {
    "name": "ipython",
    "version": 3
   },
   "file_extension": ".py",
   "mimetype": "text/x-python",
   "name": "python",
   "nbconvert_exporter": "python",
   "pygments_lexer": "ipython3",
   "version": "3.7.7-final"
  },
  "toc": {
   "base_numbering": 1,
   "nav_menu": {},
   "number_sections": true,
   "sideBar": true,
   "skip_h1_title": false,
   "title_cell": "Table of Contents",
   "title_sidebar": "Contents",
   "toc_cell": false,
   "toc_position": {},
   "toc_section_display": true,
   "toc_window_display": false
  }
 },
 "nbformat": 4,
 "nbformat_minor": 4
}